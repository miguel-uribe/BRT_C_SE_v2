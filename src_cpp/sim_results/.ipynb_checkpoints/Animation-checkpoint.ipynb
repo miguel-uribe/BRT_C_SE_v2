{
 "cells": [
  {
   "cell_type": "code",
   "execution_count": 1,
   "id": "bb527ae9",
   "metadata": {},
   "outputs": [],
   "source": [
    "import pandas as pd\n",
    "import numpy as np\n",
    "import time\n",
    "import plotly.express as px\n",
    "import seaborn as sns"
   ]
  },
  {
   "cell_type": "code",
   "execution_count": 2,
   "id": "a8c1e0f7",
   "metadata": {},
   "outputs": [],
   "source": [
    "df= pd.read_csv('sim_results_5_4_3_3_3_1_1_5_5_3_3_3_1_1_cardata.txt', names =['tiempo']+[f'par{i}' for i in range(20)],sep = ' ', index_col=False)"
   ]
  },
  {
   "cell_type": "code",
   "execution_count": 4,
   "id": "324db5f1",
   "metadata": {},
   "outputs": [],
   "source": [
    "px.scatter(df, x=\"par0\", y=\"par1\", animation_frame=\"tiempo\", \n",
    "            color=\"par10\", animation_group=\"par13\", hover_name=\"par13\", range_x=[0,1200], range_y=[-0.1,1.1])"
   ]
  },
  {
   "cell_type": "code",
   "execution_count": 3,
   "id": "ab6c508c",
   "metadata": {},
   "outputs": [],
   "source": [
    "stimes = pd.read_csv('sim_results/sim_results_1_3_5_1_3_5_1_3_5_1_3_5_1_seed_1_times.txt')"
   ]
  },
  {
   "cell_type": "code",
   "execution_count": 1,
   "id": "b195ff50",
   "metadata": {},
   "outputs": [
    {
     "ename": "NameError",
     "evalue": "name 'stimes' is not defined",
     "output_type": "error",
     "traceback": [
      "\u001b[1;31m---------------------------------------------------------------------------\u001b[0m",
      "\u001b[1;31mNameError\u001b[0m                                 Traceback (most recent call last)",
      "\u001b[1;32mu:\\miguel\\OneDrive - Universidad de la Sabana\\GitHub\\BRT_C_SE\\code\\Animation.ipynb Cell 8\u001b[0m line \u001b[0;36m1\n\u001b[1;32m----> <a href='vscode-notebook-cell:/u%3A/miguel/OneDrive%20-%20Universidad%20de%20la%20Sabana/GitHub/BRT_C_SE/code/Animation.ipynb#X10sZmlsZQ%3D%3D?line=0'>1</a>\u001b[0m stimes\u001b[39m.\u001b[39mmean()\n",
      "\u001b[1;31mNameError\u001b[0m: name 'stimes' is not defined"
     ]
    }
   ],
   "source": [
    "stimes.mean()"
   ]
  },
  {
   "cell_type": "code",
   "execution_count": 7,
   "id": "e3777439",
   "metadata": {},
   "outputs": [],
   "source": [
    "data = pd.read_csv('dwelltime_test.txt', names= ['ruta', 'dwell'], index_col=None, sep = ' ')"
   ]
  },
  {
   "cell_type": "code",
   "execution_count": 8,
   "id": "719a233a",
   "metadata": {},
   "outputs": [
    {
     "data": {
      "text/html": [
       "<div>\n",
       "<style scoped>\n",
       "    .dataframe tbody tr th:only-of-type {\n",
       "        vertical-align: middle;\n",
       "    }\n",
       "\n",
       "    .dataframe tbody tr th {\n",
       "        vertical-align: top;\n",
       "    }\n",
       "\n",
       "    .dataframe thead th {\n",
       "        text-align: right;\n",
       "    }\n",
       "</style>\n",
       "<table border=\"1\" class=\"dataframe\">\n",
       "  <thead>\n",
       "    <tr style=\"text-align: right;\">\n",
       "      <th></th>\n",
       "      <th>ruta</th>\n",
       "      <th>dwell</th>\n",
       "    </tr>\n",
       "  </thead>\n",
       "  <tbody>\n",
       "    <tr>\n",
       "      <th>0</th>\n",
       "      <td>7</td>\n",
       "      <td>4</td>\n",
       "    </tr>\n",
       "    <tr>\n",
       "      <th>1</th>\n",
       "      <td>7</td>\n",
       "      <td>6</td>\n",
       "    </tr>\n",
       "    <tr>\n",
       "      <th>2</th>\n",
       "      <td>4</td>\n",
       "      <td>18</td>\n",
       "    </tr>\n",
       "    <tr>\n",
       "      <th>3</th>\n",
       "      <td>5</td>\n",
       "      <td>24</td>\n",
       "    </tr>\n",
       "    <tr>\n",
       "      <th>4</th>\n",
       "      <td>3</td>\n",
       "      <td>17</td>\n",
       "    </tr>\n",
       "    <tr>\n",
       "      <th>...</th>\n",
       "      <td>...</td>\n",
       "      <td>...</td>\n",
       "    </tr>\n",
       "    <tr>\n",
       "      <th>14720</th>\n",
       "      <td>7</td>\n",
       "      <td>13</td>\n",
       "    </tr>\n",
       "    <tr>\n",
       "      <th>14721</th>\n",
       "      <td>3</td>\n",
       "      <td>18</td>\n",
       "    </tr>\n",
       "    <tr>\n",
       "      <th>14722</th>\n",
       "      <td>6</td>\n",
       "      <td>19</td>\n",
       "    </tr>\n",
       "    <tr>\n",
       "      <th>14723</th>\n",
       "      <td>4</td>\n",
       "      <td>37</td>\n",
       "    </tr>\n",
       "    <tr>\n",
       "      <th>14724</th>\n",
       "      <td>6</td>\n",
       "      <td>11</td>\n",
       "    </tr>\n",
       "  </tbody>\n",
       "</table>\n",
       "<p>14725 rows × 2 columns</p>\n",
       "</div>"
      ],
      "text/plain": [
       "       ruta  dwell\n",
       "0         7      4\n",
       "1         7      6\n",
       "2         4     18\n",
       "3         5     24\n",
       "4         3     17\n",
       "...     ...    ...\n",
       "14720     7     13\n",
       "14721     3     18\n",
       "14722     6     19\n",
       "14723     4     37\n",
       "14724     6     11\n",
       "\n",
       "[14725 rows x 2 columns]"
      ]
     },
     "execution_count": 8,
     "metadata": {},
     "output_type": "execute_result"
    }
   ],
   "source": [
    "data"
   ]
  },
  {
   "cell_type": "code",
   "execution_count": 12,
   "id": "42d6af34",
   "metadata": {},
   "outputs": [
    {
     "data": {
      "text/plain": [
       "<Axes: xlabel='dwell', ylabel='Count'>"
      ]
     },
     "execution_count": 12,
     "metadata": {},
     "output_type": "execute_result"
    },
    {
     "data": {
      "image/png": "[encoded data removed]",
      "text/plain": [
       "<Figure size 640x480 with 1 Axes>"
      ]
     },
     "metadata": {},
     "output_type": "display_data"
    }
   ],
   "source": [
    "sns.histplot(data, x = 'dwell', hue = 'ruta', bins = np.arange(60))"
   ]
  },
  {
   "cell_type": "code",
   "execution_count": null,
   "id": "37eaf6ef",
   "metadata": {},
   "outputs": [],
   "source": []
  }
 ],
 "metadata": {
  "kernelspec": {
   "display_name": "Python 3 (ipykernel)",
   "language": "python",
   "name": "python3"
  },
  "language_info": {
   "codemirror_mode": {
    "name": "ipython",
    "version": 3
   },
   "file_extension": ".py",
   "mimetype": "text/x-python",
   "name": "python",
   "nbconvert_exporter": "python",
   "pygments_lexer": "ipython3",
   "version": "3.10.4"
  }
 },
 "nbformat": 4,
 "nbformat_minor": 5
}
